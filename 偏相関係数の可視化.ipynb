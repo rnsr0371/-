{
 "cells": [
  {
   "cell_type": "code",
   "execution_count": null,
   "id": "unnecessary-arthritis",
   "metadata": {},
   "outputs": [],
   "source": [
    "#【質問内容】\n",
    "#MINをパーシャルアウトしたPTSとASの偏相関係数と、\n",
    "#MINでPTSとASをそれぞれ単回帰した時の残差の単純相関係数が\n",
    "#（ほぼ）一致することは分かりました。\n",
    "\n",
    "#そこで、MINをパーシャルアウトした時のPTSとASの散布図を描きたい時は、\n",
    "#MINでPTSとASをそれぞれ単回帰した時の残差同士をプロットする、\n",
    "#でよろしいでしょうか？"
   ]
  },
  {
   "cell_type": "code",
   "execution_count": 139,
   "id": "alone-meter",
   "metadata": {},
   "outputs": [],
   "source": [
    "import pandas as pd\n",
    "import numpy as np\n",
    "from sklearn.linear_model import LinearRegression\n",
    "import matplotlib.pyplot as plt"
   ]
  },
  {
   "cell_type": "code",
   "execution_count": 140,
   "id": "athletic-attendance",
   "metadata": {},
   "outputs": [],
   "source": [
    "#データの読み込み\n",
    "#stats_202021.csvはB1_2020-21シーズンの平均スタッツ\n",
    "stats=pd.read_csv(\"stats_202021.csv\")"
   ]
  },
  {
   "cell_type": "code",
   "execution_count": 141,
   "id": "beneficial-halifax",
   "metadata": {},
   "outputs": [],
   "source": [
    "#選手の平均スタッツを計算する\n",
    "stats=stats.groupby(\"Player\").mean()\n",
    "stats=stats.reset_index()"
   ]
  },
  {
   "cell_type": "code",
   "execution_count": 142,
   "id": "foreign-element",
   "metadata": {},
   "outputs": [],
   "source": [
    "#偏相関係数を算出したい列だけ残す\n",
    "stats=stats.loc[:,[\"Player\",\"MIN\",\"PTS\",\"AS\"]]"
   ]
  },
  {
   "cell_type": "code",
   "execution_count": 143,
   "id": "fewer-burlington",
   "metadata": {},
   "outputs": [
    {
     "data": {
      "text/html": [
       "<div>\n",
       "<style scoped>\n",
       "    .dataframe tbody tr th:only-of-type {\n",
       "        vertical-align: middle;\n",
       "    }\n",
       "\n",
       "    .dataframe tbody tr th {\n",
       "        vertical-align: top;\n",
       "    }\n",
       "\n",
       "    .dataframe thead th {\n",
       "        text-align: right;\n",
       "    }\n",
       "</style>\n",
       "<table border=\"1\" class=\"dataframe\">\n",
       "  <thead>\n",
       "    <tr style=\"text-align: right;\">\n",
       "      <th></th>\n",
       "      <th>MIN</th>\n",
       "      <th>PTS</th>\n",
       "      <th>AS</th>\n",
       "    </tr>\n",
       "  </thead>\n",
       "  <tbody>\n",
       "    <tr>\n",
       "      <th>MIN</th>\n",
       "      <td>1.000000</td>\n",
       "      <td>0.886114</td>\n",
       "      <td>0.706624</td>\n",
       "    </tr>\n",
       "    <tr>\n",
       "      <th>PTS</th>\n",
       "      <td>0.886114</td>\n",
       "      <td>1.000000</td>\n",
       "      <td>0.618049</td>\n",
       "    </tr>\n",
       "    <tr>\n",
       "      <th>AS</th>\n",
       "      <td>0.706624</td>\n",
       "      <td>0.618049</td>\n",
       "      <td>1.000000</td>\n",
       "    </tr>\n",
       "  </tbody>\n",
       "</table>\n",
       "</div>"
      ],
      "text/plain": [
       "          MIN       PTS        AS\n",
       "MIN  1.000000  0.886114  0.706624\n",
       "PTS  0.886114  1.000000  0.618049\n",
       "AS   0.706624  0.618049  1.000000"
      ]
     },
     "execution_count": 143,
     "metadata": {},
     "output_type": "execute_result"
    }
   ],
   "source": [
    "#相関行列を出力\n",
    "stats.drop(\"Player\",axis=1).corr()"
   ]
  },
  {
   "cell_type": "code",
   "execution_count": 144,
   "id": "partial-northern",
   "metadata": {},
   "outputs": [],
   "source": [
    "#偏相関係数を算出する準備として、PTS,ASの相関係数を保存しておく\n",
    "r_pts_as=stats[\"PTS\"].corr(stats[\"AS\"])"
   ]
  },
  {
   "cell_type": "code",
   "execution_count": 145,
   "id": "sunrise-development",
   "metadata": {},
   "outputs": [],
   "source": [
    "#偏相関係数を算出する準備として、PTS,TR,AS,TOとMINの相関係数を保存しておく\n",
    "r_min_pts=stats[\"MIN\"].corr(stats[\"PTS\"])\n",
    "r_min_as=stats[\"MIN\"].corr(stats[\"AS\"])"
   ]
  },
  {
   "cell_type": "code",
   "execution_count": 146,
   "id": "alpha-opinion",
   "metadata": {},
   "outputs": [
    {
     "data": {
      "text/plain": [
       "-0.024701831668187423"
      ]
     },
     "execution_count": 146,
     "metadata": {},
     "output_type": "execute_result"
    }
   ],
   "source": [
    "#偏相関係数の算出\n",
    "#PTSとAS\n",
    "(r_pts_as-(r_min_pts*r_min_as))/(np.sqrt(1-r_min_pts**2)*np.sqrt(1-r_min_as**2))"
   ]
  },
  {
   "cell_type": "code",
   "execution_count": 147,
   "id": "hungry-helicopter",
   "metadata": {},
   "outputs": [],
   "source": [
    "#MINによる回帰分析で残差を作る\n",
    "#まずはMINでPTSを回帰した残差を求める\n",
    "#モデルの当てはめ\n",
    "model_pts_min=LinearRegression()\n",
    "x=stats[[\"MIN\"]]\n",
    "y=stats[[\"PTS\"]]\n",
    "model_pts_min.fit(x,y)\n",
    "#予測値の算出\n",
    "pred=model_pts_min.predict(stats[[\"MIN\"]])\n",
    "#残差を計算\n",
    "res=[]\n",
    "for r,p in zip(stats[\"PTS\"],pred):\n",
    "    res.append(r-p)\n",
    "    \n",
    "stats[\"Res_pts_min\"]=pd.DataFrame(res)"
   ]
  },
  {
   "cell_type": "code",
   "execution_count": 148,
   "id": "alternate-nebraska",
   "metadata": {},
   "outputs": [],
   "source": [
    "#MINによる回帰分析で残差を作る\n",
    "#まずはMINでASを回帰した残差を求める\n",
    "#モデルの当てはめ\n",
    "model_as_min=LinearRegression()\n",
    "x=stats[[\"MIN\"]]\n",
    "y=stats[[\"AS\"]]\n",
    "model_as_min.fit(x,y)\n",
    "#予測値の算出\n",
    "pred=model_as_min.predict(stats[[\"MIN\"]])\n",
    "#残差を計算\n",
    "res=[]\n",
    "for r,p in zip(stats[\"AS\"],pred):\n",
    "    res.append(r-p)\n",
    "    \n",
    "stats[\"Res_as_min\"]=pd.DataFrame(res)"
   ]
  },
  {
   "cell_type": "code",
   "execution_count": 149,
   "id": "removable-breath",
   "metadata": {},
   "outputs": [
    {
     "data": {
      "text/plain": [
       "-0.02470183166818581"
      ]
     },
     "execution_count": 149,
     "metadata": {},
     "output_type": "execute_result"
    }
   ],
   "source": [
    "#MINで回帰した時の残差が偏相関係数と一致するか調べる\n",
    "stats[\"Res_pts_min\"].corr(stats[\"Res_as_min\"])"
   ]
  },
  {
   "cell_type": "code",
   "execution_count": 150,
   "id": "eight-shirt",
   "metadata": {},
   "outputs": [],
   "source": [
    "#残差同士の相関\n",
    "#-0.024701831668185764\n",
    "\n",
    "#定義式に沿った計算結果\n",
    "#-0.024701831668186375\n",
    "\n",
    "#残差同士の相関と偏相関係数はほぼ一致することが分かった。"
   ]
  },
  {
   "cell_type": "code",
   "execution_count": 151,
   "id": "continental-heading",
   "metadata": {},
   "outputs": [
    {
     "data": {
      "image/png": "[encoded data removed]",
      "text/plain": [
       "<Figure size 432x288 with 1 Axes>"
      ]
     },
     "metadata": {
      "needs_background": "light"
     },
     "output_type": "display_data"
    }
   ],
   "source": [
    "#単純相関係数の可視化\n",
    "plt.plot(stats[\"PTS\"],stats[\"AS\"],\"o\")\n",
    "plt.xlabel(\"PTS\")\n",
    "plt.ylabel(\"AS\")\n",
    "plt.title(\"Correlation of PTS between AS\")\n",
    "plt.show()"
   ]
  },
  {
   "cell_type": "code",
   "execution_count": 152,
   "id": "minor-vehicle",
   "metadata": {},
   "outputs": [
    {
     "data": {
      "image/png": "[encoded data removed]",
      "text/plain": [
       "<Figure size 432x288 with 1 Axes>"
      ]
     },
     "metadata": {
      "needs_background": "light"
     },
     "output_type": "display_data"
    }
   ],
   "source": [
    "#偏相関係数の可視化\n",
    "plt.plot(stats[\"Res_pts_min\"],stats[\"Res_as_min\"],\"o\")\n",
    "plt.xlabel(\"residuals of PTS\")\n",
    "plt.ylabel(\"residuals of AS\")\n",
    "plt.title(\"Partial correlation of PTS between AS\")\n",
    "plt.show()"
   ]
  }
 ],
 "metadata": {
  "kernelspec": {
   "display_name": "Python 3",
   "language": "python",
   "name": "python3"
  },
  "language_info": {
   "codemirror_mode": {
    "name": "ipython",
    "version": 3
   },
   "file_extension": ".py",
   "mimetype": "text/x-python",
   "name": "python",
   "nbconvert_exporter": "python",
   "pygments_lexer": "ipython3",
   "version": "3.6.5"
  }
 },
 "nbformat": 4,
 "nbformat_minor": 5
}
